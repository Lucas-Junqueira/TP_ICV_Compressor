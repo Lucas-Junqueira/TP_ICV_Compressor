{
 "cells": [
  {
   "cell_type": "markdown",
   "id": "d67447ce",
   "metadata": {},
   "source": [
    "# Implementação JPEG"
   ]
  },
  {
   "cell_type": "code",
   "execution_count": null,
   "id": "4fbe45ec",
   "metadata": {
    "vscode": {
     "languageId": "plaintext"
    }
   },
   "outputs": [],
   "source": []
  }
 ],
 "metadata": {
  "language_info": {
   "name": "python"
  }
 },
 "nbformat": 4,
 "nbformat_minor": 5
}
